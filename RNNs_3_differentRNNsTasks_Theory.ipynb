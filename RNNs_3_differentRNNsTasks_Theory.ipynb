{
  "nbformat": 4,
  "nbformat_minor": 0,
  "metadata": {
    "colab": {
      "name": "RNNs.3_differentRNNsTasks_Theory.ipynb",
      "provenance": [],
      "collapsed_sections": []
    },
    "kernelspec": {
      "name": "python3",
      "display_name": "Python 3"
    },
    "language_info": {
      "name": "python"
    }
  },
  "cells": [
    {
      "cell_type": "markdown",
      "source": [
        "# **RNNs part 3: Different types of RNNs tasks**"
      ],
      "metadata": {
        "id": "GBZHbmxHh3bE"
      }
    },
    {
      "cell_type": "markdown",
      "source": [
        "# **Types of RNNs Tasks**\n",
        "\n",
        "- Theme of this notebook: **shapes**.\n",
        "- What are the different types of problems an RNN can solve?  \n",
        "\n",
        "When we are talking about deep learning, this is a very important topic.\n",
        "\n",
        "You always want to **keep track of the shape of everything in your neural network**. Once you know the shape of something, the visualization of it becomes implicit.\n",
        "\n",
        "When we talk about different types of tasks that an RNN can solve, we are not talking about different applications, (although we will be looking at several simple examples).\n",
        "- We mean: **what is the *shape* of the data when the RNN is performing some task**?\n",
        "- Given an input of some shape, what kinds of shapes can I get at the output?\n",
        "\n"
      ],
      "metadata": {
        "id": "QE33mkF4h-k7"
      }
    },
    {
      "cell_type": "markdown",
      "source": [
        "# **RNN Input**\n",
        "\n",
        "- T x D matrix.\n",
        "- T = sequence length (usually, the number of words);\n",
        "- D = input dimensionality (size of word vectors).\n",
        "\n",
        "If I have 5 words, and my word vectors are of size 50, then the input to my LSTM or GRU will be of size 5 x 50.\n",
        "\n",
        "**The first thing we always do when we put words into a neural network is word embeddings - conversion of the words into the word vectors**.\n",
        "\n",
        "Each word becomes a word vector. If I have 5 words, that is going to give me 5 word vectors. \n",
        "\n",
        "Suppose my word vectors are of size 50. As seen for the CNNs, we actually have to choose the vectors' sizes  in the case where you are loading-in train embeddings (then, you have limited size selection options).\n",
        "- Let's say we choose a D = 50. Then, I have 5 word vectors, each of them of size T = 50, so my input is 5 x 50.\n",
        "- Once I have this sequence of words, I can pass it through any RNN unit, such as a GRU, LSTM, or even a simple recurrent unit.\n"
      ],
      "metadata": {
        "id": "YMNBBvHIuHdG"
      }
    },
    {
      "cell_type": "markdown",
      "source": [
        "# **RNN Input for a Time Series**\n",
        "\n",
        "Let's think of another situation where we might have a sequence of vectors: suppose I want to track the weather at several locations over time.\n",
        "\n",
        "So I pick **10 different locations and, every hour, I record the temperature at each location**. Let's say I do this for an entire day. So what does that give me?\n",
        "- **At each point in time, I have 10 different temperatures** corresponding to the 10 different locations. \n",
        "- That means that, in this case, **D = 10**. \n",
        "- Since there are **24 hours in a day, I recorded a sequence of 24 observations**. \n",
        "- Then, **T = 24**, and my data will be of size 24 x 10.\n",
        "\n",
        "Notice that in either of these situations, whether we are measuring the weather, or we are looking at sentences, the **result I get is a T x D input signal into my RNN**."
      ],
      "metadata": {
        "id": "E1iiyaLpC3zm"
      }
    },
    {
      "cell_type": "markdown",
      "source": [
        "# **RNN Output**\n",
        "\n",
        "Let's say I take my input, whatever it is, and I pass it through an RNN.\n",
        "- I know that, for each input xₜ, I can calculate the hidden state hₜ and the output prediction yₜ.\n",
        "- **What is the meaning of yₜ**? \n",
        "\n",
        "Example:\n",
        "- Suppose I am doing spam classification: given the text in an email, I would like to know if this is a spam email or if it is not.\n",
        "- Also, suppose the input email contains 100 words. That means I will end up with a sequence of 100 word vectors: [x1, x2, ..., x100]. \n",
        "- For each of these, I can calculate [y1, ..., y100].\n",
        "\n",
        "Which of these Ys do I care about? Remember that I only have one question, which has a \"yes\" or \"no\" answer: \"Is this email spam or not?\"\n",
        "\n",
        "It makes sense then to take 100 as my answer, since only y100 has seen the entire email. If I look at some earlier output, like y50, it would mean that I have only read half the email (50/100), which may not be enough.\n",
        "\n",
        "In fact, if you draw this as a diagram, basically, you see that what we can do is **to simply ignore all of the activities except 100, and to only calculate y100**.\n",
        "\n",
        "Remember that this is easy to accomplish in Keras: we just pass-in **return_sequences = False**, so that **it will only return the last RNN unit output**.\n"
      ],
      "metadata": {
        "id": "4Mg0eFtJDZW-"
      }
    },
    {
      "cell_type": "markdown",
      "source": [
        "# **Single Output for the RNN: Fancy Method**\n",
        "\n",
        "We do not necessarily know where the useful state may be.\n",
        "- Example: the email may start with \"Hi, I am a Nigerian Prince\". This first sentence would be enough for classifying the email as spam.\n",
        "\n",
        "There is actually a fancier way to get just one output for an RNN, **instead of considering the entire sequence of outputs**. The answer is the Global Max Pooling.\n",
        "\n",
        "Remember that the outputs [y1, ..., yt] is a sequence of numbers. **Global Max Pooling verifies a sequence of numbers and, regardless of its length, just returns its maximum value**.\n",
        "- This can be useful in spam classification, since a very obvious spam word may appear in the middle of an email or even near its beginning.\n",
        "- This is the case of the abovementioned email with the \"Nigerian Prince\". You do not have to read to the end of the email to know that it is spam, and if you did read the whole email, you might end up losing that information by the time you got to the end.\n",
        "\n",
        "We claim that **LSTMs are really good at learning long-term dependencies, but there is still a limit**. \n",
        "- This appears in machine translation and in all types of tasks. \n",
        "- Basically, **LSTMs are still better at processing short sequences than they are at very long sequences**.\n",
        "\n",
        "In any case, **Global Max Pooling allows us to consider all the activities, but still only get a single output. We do not have to choose the last one, since that may not be the best one** (the best may be at the beginning or at the middle of the sentence, as in the case of the spam email).\n",
        "\n",
        "It makes sense to take only one Y as my output prediction\n",
        "- **If I have 1 output prediction over K classes, then my output should be a vector of size K**."
      ],
      "metadata": {
        "id": "6fTk_s6WN9B_"
      }
    },
    {
      "cell_type": "markdown",
      "source": [
        "# **Parts-of-Speech Tagging**\n",
        "\n",
        "- We would like to know, for each word, whether it is a noun, verb, adjective, etc.\n",
        "- This is a slightly more complex problem, which is also NLP related, and is called Parts-of-Speech Tagging.\n",
        "\n",
        "Why are RNNs good models for this task? It has to do with the fact that **some words are ambiguous**. For example: it is not possible to say that milk is definitely a noun or is definitely a verb, because the word milk can be either.\n",
        "- **The model must take into account the context words**:\n",
        "\n",
        "```\n",
        "\"I went to the grocery store and I bought milk today.\" - \"milk\" is a noun.\n",
        "\n",
        "\"The thief wanted to milk her victims out of their savings.\" - \"milk\" is a verb. \n",
        "```\n",
        "\n",
        "The use of an RNN is important for this problem, since you have to take into account the other words of the sentence.\n",
        "\n",
        "The other important part of the Parts-of-Speech Tagging problem is that we need to make a prediction for every word we see (we want to classify each word into the correct part of speech). \n",
        "\n",
        "Therefore, this is not like spam classification, where we just make one prediction for the entire sequence. Each word in the sentence will have a corresponding parts of speech tag.\n",
        "\n",
        "So in this case, if I have x1 up to x100, then I must also have y1 up to y100. **Each of those Ys is going to represent the predicted parts of speech tag for the corresponding word**.\n",
        "\n",
        "# **Back to shapes**\n",
        "\n",
        "- Both input and output are of length T;\n",
        "- Each output presents 1 of K possible values;\n",
        "- Output is of shape T x K."
      ],
      "metadata": {
        "id": "HOyk40h6Sjcf"
      }
    },
    {
      "cell_type": "markdown",
      "source": [
        "# **Machine Translation**\n",
        "\n",
        "- Example where we do not just have one output, but many.\n",
        "- For example: I have an input sentence in English, and then I predict an output sentence in Japanese.\n",
        "- If I pass-in 100 words in English, it is most certainly not the case that the Japanese translation also has 100 words.\n",
        "- This is a situation where the input sequence length is different from the output sequence length.\n",
        "\n",
        "In this case, we usually call the shape of the input Tₓ and the shape of the output Ty. Then, the output will be of size Ty x K."
      ],
      "metadata": {
        "id": "K-SEU3znfyF_"
      }
    },
    {
      "cell_type": "markdown",
      "source": [
        "# **Categories of Tasks**"
      ],
      "metadata": {
        "id": "3Pl2-4gkk6_o"
      }
    },
    {
      "cell_type": "markdown",
      "source": [
        "![image.png](data:image/png;base64,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)"
      ],
      "metadata": {
        "id": "AEhoeWx6tSo8"
      }
    },
    {
      "cell_type": "markdown",
      "source": [
        "\n",
        "It is possible to categorize each type of task: \n",
        "- You can think of a regular feedforward neural network as a one to one task. You have one input and you get one output. For example, I pass-in an image and I tell you what object is in that image.\n",
        "- You can think of things like **spam classification and sentiment classification as many to one: the input sequence contains many things, but the output is just one thing (positive sentiment, or negative sentiment; spam or not spam)**.\n",
        "- You can think of tasks like parts of speech, tagging and machine translation as many to many. The input is a sequence of many things, and the output is also a sequence of many things.\n",
        "\n",
        "Notice in the diagram above that there are two different kinds of many to many.\n",
        "- One of these we have already talked about: the input sequence length is the same as the output sequence length. \n",
        "- There is also another type of many to many, where the lengths are different.\n",
        "\n",
        "There's also a concept of one to many: in general, you can think of this as text generation. It is present in tasks such as generating poetry."
      ],
      "metadata": {
        "id": "TMOvMBi2lEjn"
      }
    }
  ]
}