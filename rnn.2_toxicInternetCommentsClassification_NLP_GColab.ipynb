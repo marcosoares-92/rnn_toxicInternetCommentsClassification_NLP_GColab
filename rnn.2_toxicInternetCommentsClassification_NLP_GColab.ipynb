{
  "nbformat": 4,
  "nbformat_minor": 0,
  "metadata": {
    "colab": {
      "name": "rnn.2_toxicInternetCommentsClassification_NLP_GColab.ipynb",
      "provenance": [],
      "collapsed_sections": []
    },
    "kernelspec": {
      "display_name": "Python 3",
      "name": "python3"
    },
    "accelerator": "GPU"
  },
  "cells": [
    {
      "cell_type": "markdown",
      "source": [
        "# **Classificar comentários da internet como tóxicos ou impróprios com uso de RNNs**"
      ],
      "metadata": {
        "id": "p4z1Axzf4Vwf"
      }
    },
    {
      "cell_type": "code",
      "source": [
        "#Garantir que está usando a versão mais recente de Keras\n",
        "! pip install keras --upgrade"
      ],
      "metadata": {
        "colab": {
          "base_uri": "https://localhost:8080/"
        },
        "id": "gxNgM9E4vwLF",
        "outputId": "bb79485f-512f-4893-ba5b-b14413d5e91d"
      },
      "execution_count": null,
      "outputs": [
        {
          "output_type": "stream",
          "name": "stdout",
          "text": [
            "Requirement already satisfied: keras in /usr/local/lib/python3.7/dist-packages (2.7.0)\n"
          ]
        }
      ]
    },
    {
      "cell_type": "markdown",
      "metadata": {
        "id": "eikfzi8ZT_rW"
      },
      "source": [
        "# **Recurrent Neural Networks (RNN) applied to Natural Language Processing (NLP)**\n",
        "\n",
        "- Neste projeto, é utilizado um vocabulário (conjunto de palavras em inglês) previamente convertido em vetores de palavras.\n",
        "- Estes dados são combinados a uma base de dados contendo comentários de internet previamente rotulados em 6 rótulos de toxicidade, os quais não são mutuamente exclusivos. O comentário pode estar classificado (Resposta = 1) ou não estar classificado (Resposta = 0) naquele rótulo, de modo que temos 6 variáveis-respostas independentes (o comentário pode receber nenhum rótulo ou até 6 rótulos).\n",
        "\n",
        "Podemos aplicar as redes neurais recorrentes (RNNs) a sequências de \"word embeddings\".\n",
        "- Em particular, **utilizaremos o LSTM como unidade recursiva**."
      ]
    },
    {
      "cell_type": "markdown",
      "source": [
        "# **Roteiro para construção de modelos em Keras**\n",
        "\n",
        "1) Carregar os dados e convertê-los a um formato adequado para a construção do modelo. **As funções do Pandas são necessárias para converter bases gravadas como CSV ou arquivo Excel em objetos do tipo dataframe**, independente se os dados forem previamente carregados no Google Drive, se foram carregados diretamente no ambiente do Google Colab, ou se foram carregados offline usando uma IDE como o Anaconda.\n",
        "\n",
        "2) Criar o modelo: aqui, forneceremos ao Keras a estrutura do modelo, por exemplo, tipos e configurações das camadas da rede neural, bem como a sequência das camadas e operações.\n",
        "\n",
        "3) Treinar o modelo com os dados e avaliar seus resultados."
      ],
      "metadata": {
        "id": "4yFrSL4wHNpT"
      }
    },
    {
      "cell_type": "markdown",
      "metadata": {
        "id": "BaCkyg5CV5jF"
      },
      "source": [
        "# **Fazer upload de arquivos a partir de sistema de arquivos local**\n",
        "\n",
        "<code>files.upload</code> é um comando que retorna um dicionário Python com os arquivos incluídos no upload.\n",
        "O dicionário é indexado com o nome do arquivo e os valores são os dados enviados por upload."
      ]
    },
    {
      "cell_type": "markdown",
      "source": [
        "CONFIGURAR Ambiente do COLAB:\n",
        "No menu superior, clique sobre a seta ao lado das barras RAM e Disco. No dropdown mostrado, selecione \n",
        "**\"Ver recursos\"**.\n",
        "\n",
        "No novo menu, utilize a barra de rolagem até chegar ao extremo inferior, e selecione a opção **\"Alterar o tipo de ambiente de execução\"**.\n",
        "\n",
        "Por fim, em **\"Acelerador de hardware\"**, selecione **\"GPU\"**."
      ],
      "metadata": {
        "id": "vYKaJI_AzXrN"
      }
    },
    {
      "cell_type": "markdown",
      "source": [
        "Vamos carregar os arquivos com textos a serem classificados via CNN. Eles estão disponíveis nos links abaixo:\n",
        "\n",
        "Download the data:\n",
        "https://www.kaggle.com/c/jigsaw-toxic-comment-classification-challenge\n",
        "\n",
        "Download the word vectors:\n",
        "http://nlp.stanford.edu/data/glove.6B.zip\n"
      ],
      "metadata": {
        "id": "iRz2xRulXjqG"
      }
    },
    {
      "cell_type": "markdown",
      "source": [
        "Os arquivos glove.6B possuem vetores de palavras já definidos. Como os arquivos são muito pesados, é melhor carregá-los primeiramente no Google Drive para posteriormente trazê-los ao ambiente do Colab (carregar diretamente no Colab levará tempo excessivo)."
      ],
      "metadata": {
        "id": "uLgpKJxR9wyL"
      }
    },
    {
      "cell_type": "markdown",
      "metadata": {
        "id": "c2W5A2px3doP"
      },
      "source": [
        "# **Google Drive**\n",
        "\n",
        "É possível acessar os arquivos no Drive de várias maneiras. Por exemplo:\n",
        "- Montar o Google Drive na máquina virtual do ambiente de execução\n",
        "- Usar um wrapper ao redor da API, <a href=\"https://pythonhosted.org/PyDrive/\">como o PyDrive</a>\n",
        "- Usar a <a href=\"https://developers.google.com/drive/v3/web/about-sdk\">API REST nativa</a>\n",
        "\n",
        "\n",
        "\n",
        "Veja abaixo exemplos de cada um eles."
      ]
    },
    {
      "cell_type": "markdown",
      "metadata": {
        "id": "u22w3BFiOveA"
      },
      "source": [
        "# **Montar o Google Drive localmente - Autorizar conexão do Google Colab aos arquivos do Google Drive**\n",
        "\n",
        "O exemplo abaixo mostra como montar o Google Drive no seu ambiente de execução usando um código de autorização, além de como gravar e ler arquivos nele. Depois de executado, você verá o novo arquivo &#40;<code>foo.txt</code>&#41; no <a href=\"https://drive.google.com/\">https://drive.google.com/</a>.\n",
        "\n",
        "Isto permite somente ler, gravar e mover arquivos. Para modificar de maneira programática as configurações de compartilhamento ou outros metadados, use uma das opções abaixo.\n",
        "\n",
        "<strong>Observação:</strong> ao usar o botão \"Montar Drive\" no navegador de arquivos, não é necessário usar nenhum código de autenticação para notebooks que tenham sido editados somente pelo usuário atual."
      ]
    },
    {
      "cell_type": "code",
      "metadata": {
        "colab": {
          "base_uri": "https://localhost:8080/"
        },
        "id": "RWSJpsyKqHjH",
        "outputId": "4bfd9aba-20f2-49d3-84d9-e56e83d7d3e0"
      },
      "source": [
        "#Esta célula é utilizada para conectar à conta do Google Drive\n",
        "from google.colab import drive\n",
        "drive.mount('/content/drive')"
      ],
      "execution_count": 1,
      "outputs": [
        {
          "output_type": "stream",
          "name": "stdout",
          "text": [
            "Mounted at /content/drive\n"
          ]
        }
      ]
    },
    {
      "cell_type": "markdown",
      "source": [
        "No menu à esquerda, clique sobre o ícone da pasta (\"**Arquivos**\"), e localize dentro da nova pasta \"drive\" a pasta do Google Drive contendo os arquivos desejados (clique na seta para expandir os dropdowns). \n",
        "\n",
        "Clique sobre a elipse (3 pontos à direita) do arquivo desejado e selecione a opção \"**Copiar caminho**\" para copiar os endereços de cada um dos arquivos que serão analisados.\n",
        "\n",
        "Note que o caminho será diferente para cada usuário do Google Drive."
      ],
      "metadata": {
        "id": "SSQaZ5umC2h_"
      }
    },
    {
      "cell_type": "markdown",
      "source": [
        "Endereços:\n",
        "\n",
        "glove.6B.100d.txt: \"/content/drive/MyDrive/Coisas úteis separadas para a Paula/Deep Learning - Advanced NLP and RNNs/Lesson 1 - convolutional neural networks/glove.6B.100d.txt\"\n",
        "\n",
        "sample_submission.csv: \"/content/drive/MyDrive/Coisas úteis separadas para a Paula/Deep Learning - Advanced NLP and RNNs/Lesson 1 - convolutional neural networks/sample_submission.csv\"\n",
        "\n",
        "test.csv: \"/content/drive/MyDrive/Coisas úteis separadas para a Paula/Deep Learning - Advanced NLP and RNNs/Lesson 1 - convolutional neural networks/test.csv\"\n",
        "\n",
        "test_labels.csv: \"/content/drive/MyDrive/Coisas úteis separadas para a Paula/Deep Learning - Advanced NLP and RNNs/Lesson 1 - convolutional neural networks/test_labels.csv\"\n",
        "\n",
        "train.csv: \"/content/drive/MyDrive/Coisas úteis separadas para a Paula/Deep Learning - Advanced NLP and RNNs/Lesson 1 - convolutional neural networks/train.csv\""
      ],
      "metadata": {
        "id": "t2mVIAh0f0te"
      }
    },
    {
      "cell_type": "markdown",
      "source": [
        "# **Importar bibliotecas para análise**"
      ],
      "metadata": {
        "id": "sLmPin6ig-eO"
      }
    },
    {
      "cell_type": "code",
      "source": [
        "# https://deeplearningcourses.com/c/deep-learning-advanced-nlp\n",
        "from __future__ import print_function, division\n",
        "from builtins import range\n",
        "# Note: you may need to update your version of future\n",
        "# sudo pip install -U future\n",
        "\n",
        "import os\n",
        "import sys\n",
        "import numpy as np\n",
        "import pandas as pd\n",
        "import matplotlib.pyplot as plt\n",
        "\n",
        "from keras import optimizers\n",
        "from keras.models import Model\n",
        "from keras.layers import Dense, Embedding, Input\n",
        "from keras.layers import LSTM, Bidirectional, GlobalMaxPool1D, Dropout\n",
        "from keras.preprocessing.text import Tokenizer\n",
        "from keras.preprocessing.sequence import pad_sequences\n",
        "#from keras.optimizers import Adam\n",
        "from sklearn.metrics import roc_auc_score\n",
        "\n",
        "import keras.backend as K\n",
        "#if len(K.tensorflow_backend._get_available_gpus()) > 0:\n",
        "#  from keras.layers import CuDNNLSTM as LSTM\n",
        "#  from keras.layers import CuDNNGRU as GRU"
      ],
      "metadata": {
        "id": "k5LC3b1ag8dX"
      },
      "execution_count": 2,
      "outputs": []
    },
    {
      "cell_type": "markdown",
      "source": [
        "As bibliotecas \"os\" e \"sys\" possibilitam ler e fundir (merge) arquivos, como será visto adiante."
      ],
      "metadata": {
        "id": "pOOpjPd-g0e3"
      }
    },
    {
      "cell_type": "markdown",
      "source": [
        "**Tokenizer**: transformar uma sentença (uma grande string contendo palavras e pontuação) em uma lista de strings, na qual cada elemento da lista é chamado de token.\n",
        "\n",
        "Tokenização é um aspecto chave e mandatório do processamento de textos. Os tokens são os blocos de construção do processamento de linguagem natural, utilizados tanto em métodos tradicionais quanto nos mais modernos algoritmos de deep learning.\n",
        "\n",
        "A tokenização consiste em separar um trecho de texto em unidades menores (tokens), as quais podem ser palavras, caracteres, ou subpalavras. A forma mais comum de formar tokens é a separação por meio da identificação de espaços em branco que demarcam a separação entre as palavras.\n",
        "\n",
        "Assim, o token geralmente será uma palavra, mas pode ser pontuação, apóstrofe, parte de uma contração, etc, dependendo da estratégia de tokenização aplicada. Portanto, a tokenização pode ser vista como uma estratégia de split de strings."
      ],
      "metadata": {
        "id": "ho1kCOvKqaTN"
      }
    },
    {
      "cell_type": "markdown",
      "source": [
        "**pad_sequences**: nós precisamos deste comando porque desejamos que todas as nossas sequências apresentem o mesmo comprimento. Porém, quando carregamos a sequência no ambiente, elas apresentam diferentes comprimentos.\n",
        "\n",
        "Assim, nós adicionamos o padding para obter uma saída \"reta\"."
      ],
      "metadata": {
        "id": "qcMO-wNs7VKE"
      }
    },
    {
      "cell_type": "markdown",
      "source": [
        "# **Configurações das redes neurais e do processamento de texto**"
      ],
      "metadata": {
        "id": "LhqIspfRhvS4"
      }
    },
    {
      "cell_type": "code",
      "source": [
        "# some configuration\n",
        "MAX_SEQUENCE_LENGTH = 100\n",
        "MAX_VOCAB_SIZE = 20000\n",
        "EMBEDDING_DIM = 50\n",
        "VALIDATION_SPLIT = 0.2\n",
        "BATCH_SIZE = 128\n",
        "EPOCHS = 5"
      ],
      "metadata": {
        "id": "eI_tusKJh0L4"
      },
      "execution_count": 3,
      "outputs": []
    },
    {
      "cell_type": "markdown",
      "source": [
        "**MAX_SEQUENCE_LENGTH**: definimos em 100 por se tratarem de comentários de internet. Este parâmetro pode ser modificado: por exemplo, após carregar todos os dados, define-se este parâmetro como sendo igual ao maior comprimento presente. Outra estratégia é verificar o histograma dos comprimentos de comentários para averiguar se o parâmetro escolhido faz sentido.\n",
        "\n",
        "**MAX_VOCAB_SIZE: tamanho do vocabulário de aprendizagem** (total de palavras do vocabulário). Se houver mais que MAX_VOCAB_SIZE = 20000, o vocabulário será truncado em 20.000 palavras. Experimentos mostraram que um falante de inglês nativo conhece, em média, cerca de 20000 palavras. Embora estes resultados sejam controversos e provavelmente superestimados, este é um valor popularmente adotado para este parâmetro.\n",
        "\n",
        "**EMBEDDING_DIM**: comprimento de cada vetor de palavras (word vector). Você não pode escolher qualquer comprimento quando trabalhando com modelos pré-treinados. Isto porque os *modelos pré-treinados costumam vir com determinados valores de comprimento de vetor de palavras fixados*. Aqui, usaremos vetores de comprimento 50 ou 100, mas comprimentos iguais a 200 e 300 também estão disponíveis nos arquivos."
      ],
      "metadata": {
        "id": "bF1ceq1F8YOM"
      }
    },
    {
      "cell_type": "markdown",
      "source": [
        "# **Vamos criar um dicionário vazio, chamado word2vec** \n",
        "Este dicionário armazenará os dados já pré-configurados, i.e., palavras que já foram convertidas em vetores numéricos, e que estão disponíveis nas bases glove.6B.\n",
        "\n",
        "- O comprimento dos vetores de palavras será o definido e armazenado em EMBEDDING_DIM.\n",
        "- O dicionário possui como estrutura: a palavra como a chave (key); e o vetor de palavras (word vector) como o valor correspondente.\n",
        "- A nomenclatura word2vec vem de \"word pointing to vector\".\n",
        "- Os arquivos glove.6B consistem em txt contendo a cada linha uma palavra seguida dos valores das componentes dos vetores, separados por espaços em branco.\n",
        "- Assim, nós: 1) carregamos uma linha; 2) dividimos (split) as linhas em tokens; 3) tomamos o primeiro token como sendo a palavra; 4) tomamos os demais tokens como o vetor; 5) convertemos o vetor em um NumPy array; 6) e, por fim, salvamos cada array no nosso dicionário."
      ],
      "metadata": {
        "id": "0d6Xy9QThLJQ"
      }
    },
    {
      "cell_type": "markdown",
      "source": [
        "**ATENÇÃO**\n",
        "\n",
        "O endereço dos arquivos deve ser inserido com o número correto de espaçamentos. A inclusão de espaços em branco a mais no começo e no fim resultará em erro de processamento."
      ],
      "metadata": {
        "id": "6aNIdLyMiRB4"
      }
    },
    {
      "cell_type": "code",
      "source": [
        "# load in pre-trained word vectors\n",
        "print('Loading word vectors...')\n",
        "word2vec = {}\n",
        "#dicionário em branco, a ser povoado\n",
        "\n",
        "with open(os.path.join('/content/drive/MyDrive/Coisas úteis separadas para a Paula/Deep Learning - Advanced NLP and RNNs/Lesson 1 - convolutional neural networks/glove.6B.%sd.txt' % EMBEDDING_DIM)) as f:\n",
        "  # is just a space-separated text file in the format:\n",
        "  # word vec[0] vec[1] vec[2] ...\n",
        "  for line in f:\n",
        "    values = line.split()\n",
        "    word = values[0]\n",
        "    vec = np.asarray(values[1:], dtype='float32')\n",
        "    word2vec[word] = vec\n",
        "print('Found %s word vectors.' % len(word2vec))"
      ],
      "metadata": {
        "colab": {
          "base_uri": "https://localhost:8080/"
        },
        "id": "4MEIQjDghbd4",
        "outputId": "2c76763b-dd08-479c-f493-43786d42a05e"
      },
      "execution_count": 4,
      "outputs": [
        {
          "output_type": "stream",
          "name": "stdout",
          "text": [
            "Loading word vectors...\n",
            "Found 400000 word vectors.\n"
          ]
        }
      ]
    },
    {
      "cell_type": "markdown",
      "source": [
        "Não imprima o dicionário word2vec! Devido ao seu tamanho elevado, sobrecarregará a visualização do notebook."
      ],
      "metadata": {
        "id": "gniBdfTfiqaP"
      }
    },
    {
      "cell_type": "markdown",
      "source": [
        "Note que ainda não começamos o treinamento das CNNs. O que fizemos aqui foi abrir uma série de arquivos de texto previamente carregados no Google Drive (arquivos contendo dados pré-treinados de palavras convertidas em vetores numéricos). Após abri-los com o comando with open, manipulamos as strings para que os dados povoassem um dicionário vazio."
      ],
      "metadata": {
        "id": "4FNQtI3ukCuh"
      }
    },
    {
      "cell_type": "markdown",
      "source": [
        "Caso estivesse usando um ambiente offline, e não o Google Colab, o seguinte código deveria ser utilizado:\n",
        "\n",
        "```\n",
        "# load in pre-trained word vectors\n",
        "print('Loading word vectors...')\n",
        "word2vec = {}\n",
        "with open(os.path.join('../large_files/glove.6B/glove.6B.%sd.txt' % EMBEDDING_DIM)) as f:\n",
        "  # is just a space-separated text file in the format:\n",
        "  # word vec[0] vec[1] vec[2] ...\n",
        "  for line in f:\n",
        "    values = line.split()\n",
        "    word = values[0]\n",
        "    vec = np.asarray(values[1:], dtype='float32')\n",
        "    word2vec[word] = vec\n",
        "print('Found %s word vectors.' % len(word2vec))\n",
        "```\n",
        "\n"
      ],
      "metadata": {
        "id": "VG-Xb5jvk1mx"
      }
    },
    {
      "cell_type": "markdown",
      "source": [
        "Note que o trecho `glove.6B.%sd.txt' % EMBEDDING_DIM`\n",
        "\n",
        "faz com que todos os arquivos com o número %s = EMBEDDING_DIM sejam lidos.\n"
      ],
      "metadata": {
        "id": "5bwdfRA9lYxX"
      }
    },
    {
      "cell_type": "markdown",
      "source": [
        "# **Vamos carregar os dados de treinamento, formados pelos comentários de internet a serem classificados em \"toxicidade\"**"
      ],
      "metadata": {
        "id": "xyY7kIV2ILVb"
      }
    },
    {
      "cell_type": "code",
      "source": [
        "# prepare text samples and their labels\n",
        "print('Loading in comments...')\n",
        "\n",
        "train = pd.read_csv(\"/content/drive/MyDrive/Coisas úteis separadas para a Paula/Deep Learning - Advanced NLP and RNNs/Lesson 1 - convolutional neural networks/train.csv\")\n",
        "sentences = train[\"comment_text\"].fillna(\"DUMMY_VALUE\").values\n",
        "possible_labels = [\"toxic\", \"severe_toxic\", \"obscene\", \"threat\", \"insult\", \"identity_hate\"]\n",
        "targets = train[possible_labels].values"
      ],
      "metadata": {
        "colab": {
          "base_uri": "https://localhost:8080/"
        },
        "id": "w9FurwavIMCI",
        "outputId": "c0165fce-c778-4539-90ff-8271fd6d4dce"
      },
      "execution_count": 5,
      "outputs": [
        {
          "output_type": "stream",
          "name": "stdout",
          "text": [
            "Loading in comments...\n"
          ]
        }
      ]
    },
    {
      "cell_type": "markdown",
      "source": [
        "Note que, como ocorre para qualquer CSV ou arquivo Excel, seja ele carregado no ambiente Python offline, no Google Drive, ou diretamente no Google Colab, **precisamos invocar as funções do Pandas read_csv ou read_excel para converter o arquivo em um objeto do tipo dataframe**.\n"
      ],
      "metadata": {
        "id": "Gzp-Y67gJSxL"
      }
    },
    {
      "cell_type": "markdown",
      "source": [
        "Vamos verificar o aspecto geral do dataframe de treinamento:"
      ],
      "metadata": {
        "id": "grdwAmgDKLfb"
      }
    },
    {
      "cell_type": "code",
      "source": [
        "train.head()"
      ],
      "metadata": {
        "colab": {
          "base_uri": "https://localhost:8080/",
          "height": 250
        },
        "id": "cThmg_0KKJak",
        "outputId": "3a44de1e-b397-467d-ae32-eb869edc6c19"
      },
      "execution_count": null,
      "outputs": [
        {
          "output_type": "execute_result",
          "data": {
            "text/html": [
              "\n",
              "  <div id=\"df-7c5c8d72-4f65-43b9-bf79-58f37be1535e\">\n",
              "    <div class=\"colab-df-container\">\n",
              "      <div>\n",
              "<style scoped>\n",
              "    .dataframe tbody tr th:only-of-type {\n",
              "        vertical-align: middle;\n",
              "    }\n",
              "\n",
              "    .dataframe tbody tr th {\n",
              "        vertical-align: top;\n",
              "    }\n",
              "\n",
              "    .dataframe thead th {\n",
              "        text-align: right;\n",
              "    }\n",
              "</style>\n",
              "<table border=\"1\" class=\"dataframe\">\n",
              "  <thead>\n",
              "    <tr style=\"text-align: right;\">\n",
              "      <th></th>\n",
              "      <th>id</th>\n",
              "      <th>comment_text</th>\n",
              "      <th>toxic</th>\n",
              "      <th>severe_toxic</th>\n",
              "      <th>obscene</th>\n",
              "      <th>threat</th>\n",
              "      <th>insult</th>\n",
              "      <th>identity_hate</th>\n",
              "    </tr>\n",
              "  </thead>\n",
              "  <tbody>\n",
              "    <tr>\n",
              "      <th>0</th>\n",
              "      <td>0000997932d777bf</td>\n",
              "      <td>Explanation\\nWhy the edits made under my usern...</td>\n",
              "      <td>0</td>\n",
              "      <td>0</td>\n",
              "      <td>0</td>\n",
              "      <td>0</td>\n",
              "      <td>0</td>\n",
              "      <td>0</td>\n",
              "    </tr>\n",
              "    <tr>\n",
              "      <th>1</th>\n",
              "      <td>000103f0d9cfb60f</td>\n",
              "      <td>D'aww! He matches this background colour I'm s...</td>\n",
              "      <td>0</td>\n",
              "      <td>0</td>\n",
              "      <td>0</td>\n",
              "      <td>0</td>\n",
              "      <td>0</td>\n",
              "      <td>0</td>\n",
              "    </tr>\n",
              "    <tr>\n",
              "      <th>2</th>\n",
              "      <td>000113f07ec002fd</td>\n",
              "      <td>Hey man, I'm really not trying to edit war. It...</td>\n",
              "      <td>0</td>\n",
              "      <td>0</td>\n",
              "      <td>0</td>\n",
              "      <td>0</td>\n",
              "      <td>0</td>\n",
              "      <td>0</td>\n",
              "    </tr>\n",
              "    <tr>\n",
              "      <th>3</th>\n",
              "      <td>0001b41b1c6bb37e</td>\n",
              "      <td>\"\\nMore\\nI can't make any real suggestions on ...</td>\n",
              "      <td>0</td>\n",
              "      <td>0</td>\n",
              "      <td>0</td>\n",
              "      <td>0</td>\n",
              "      <td>0</td>\n",
              "      <td>0</td>\n",
              "    </tr>\n",
              "    <tr>\n",
              "      <th>4</th>\n",
              "      <td>0001d958c54c6e35</td>\n",
              "      <td>You, sir, are my hero. Any chance you remember...</td>\n",
              "      <td>0</td>\n",
              "      <td>0</td>\n",
              "      <td>0</td>\n",
              "      <td>0</td>\n",
              "      <td>0</td>\n",
              "      <td>0</td>\n",
              "    </tr>\n",
              "  </tbody>\n",
              "</table>\n",
              "</div>\n",
              "      <button class=\"colab-df-convert\" onclick=\"convertToInteractive('df-7c5c8d72-4f65-43b9-bf79-58f37be1535e')\"\n",
              "              title=\"Convert this dataframe to an interactive table.\"\n",
              "              style=\"display:none;\">\n",
              "        \n",
              "  <svg xmlns=\"http://www.w3.org/2000/svg\" height=\"24px\"viewBox=\"0 0 24 24\"\n",
              "       width=\"24px\">\n",
              "    <path d=\"M0 0h24v24H0V0z\" fill=\"none\"/>\n",
              "    <path d=\"M18.56 5.44l.94 2.06.94-2.06 2.06-.94-2.06-.94-.94-2.06-.94 2.06-2.06.94zm-11 1L8.5 8.5l.94-2.06 2.06-.94-2.06-.94L8.5 2.5l-.94 2.06-2.06.94zm10 10l.94 2.06.94-2.06 2.06-.94-2.06-.94-.94-2.06-.94 2.06-2.06.94z\"/><path d=\"M17.41 7.96l-1.37-1.37c-.4-.4-.92-.59-1.43-.59-.52 0-1.04.2-1.43.59L10.3 9.45l-7.72 7.72c-.78.78-.78 2.05 0 2.83L4 21.41c.39.39.9.59 1.41.59.51 0 1.02-.2 1.41-.59l7.78-7.78 2.81-2.81c.8-.78.8-2.07 0-2.86zM5.41 20L4 18.59l7.72-7.72 1.47 1.35L5.41 20z\"/>\n",
              "  </svg>\n",
              "      </button>\n",
              "      \n",
              "  <style>\n",
              "    .colab-df-container {\n",
              "      display:flex;\n",
              "      flex-wrap:wrap;\n",
              "      gap: 12px;\n",
              "    }\n",
              "\n",
              "    .colab-df-convert {\n",
              "      background-color: #E8F0FE;\n",
              "      border: none;\n",
              "      border-radius: 50%;\n",
              "      cursor: pointer;\n",
              "      display: none;\n",
              "      fill: #1967D2;\n",
              "      height: 32px;\n",
              "      padding: 0 0 0 0;\n",
              "      width: 32px;\n",
              "    }\n",
              "\n",
              "    .colab-df-convert:hover {\n",
              "      background-color: #E2EBFA;\n",
              "      box-shadow: 0px 1px 2px rgba(60, 64, 67, 0.3), 0px 1px 3px 1px rgba(60, 64, 67, 0.15);\n",
              "      fill: #174EA6;\n",
              "    }\n",
              "\n",
              "    [theme=dark] .colab-df-convert {\n",
              "      background-color: #3B4455;\n",
              "      fill: #D2E3FC;\n",
              "    }\n",
              "\n",
              "    [theme=dark] .colab-df-convert:hover {\n",
              "      background-color: #434B5C;\n",
              "      box-shadow: 0px 1px 3px 1px rgba(0, 0, 0, 0.15);\n",
              "      filter: drop-shadow(0px 1px 2px rgba(0, 0, 0, 0.3));\n",
              "      fill: #FFFFFF;\n",
              "    }\n",
              "  </style>\n",
              "\n",
              "      <script>\n",
              "        const buttonEl =\n",
              "          document.querySelector('#df-7c5c8d72-4f65-43b9-bf79-58f37be1535e button.colab-df-convert');\n",
              "        buttonEl.style.display =\n",
              "          google.colab.kernel.accessAllowed ? 'block' : 'none';\n",
              "\n",
              "        async function convertToInteractive(key) {\n",
              "          const element = document.querySelector('#df-7c5c8d72-4f65-43b9-bf79-58f37be1535e');\n",
              "          const dataTable =\n",
              "            await google.colab.kernel.invokeFunction('convertToInteractive',\n",
              "                                                     [key], {});\n",
              "          if (!dataTable) return;\n",
              "\n",
              "          const docLinkHtml = 'Like what you see? Visit the ' +\n",
              "            '<a target=\"_blank\" href=https://colab.research.google.com/notebooks/data_table.ipynb>data table notebook</a>'\n",
              "            + ' to learn more about interactive tables.';\n",
              "          element.innerHTML = '';\n",
              "          dataTable['output_type'] = 'display_data';\n",
              "          await google.colab.output.renderOutput(dataTable, element);\n",
              "          const docLink = document.createElement('div');\n",
              "          docLink.innerHTML = docLinkHtml;\n",
              "          element.appendChild(docLink);\n",
              "        }\n",
              "      </script>\n",
              "    </div>\n",
              "  </div>\n",
              "  "
            ],
            "text/plain": [
              "                 id  ... identity_hate\n",
              "0  0000997932d777bf  ...             0\n",
              "1  000103f0d9cfb60f  ...             0\n",
              "2  000113f07ec002fd  ...             0\n",
              "3  0001b41b1c6bb37e  ...             0\n",
              "4  0001d958c54c6e35  ...             0\n",
              "\n",
              "[5 rows x 8 columns]"
            ]
          },
          "metadata": {},
          "execution_count": 12
        }
      ]
    },
    {
      "cell_type": "code",
      "source": [
        "train.describe()"
      ],
      "metadata": {
        "colab": {
          "base_uri": "https://localhost:8080/",
          "height": 300
        },
        "id": "m8ro5VEsUAjb",
        "outputId": "a35eb2c2-dbe2-4c1a-ada3-130da55707fe"
      },
      "execution_count": null,
      "outputs": [
        {
          "output_type": "execute_result",
          "data": {
            "text/html": [
              "\n",
              "  <div id=\"df-d8b34ad1-c144-4257-afd4-eb26fd70f9a0\">\n",
              "    <div class=\"colab-df-container\">\n",
              "      <div>\n",
              "<style scoped>\n",
              "    .dataframe tbody tr th:only-of-type {\n",
              "        vertical-align: middle;\n",
              "    }\n",
              "\n",
              "    .dataframe tbody tr th {\n",
              "        vertical-align: top;\n",
              "    }\n",
              "\n",
              "    .dataframe thead th {\n",
              "        text-align: right;\n",
              "    }\n",
              "</style>\n",
              "<table border=\"1\" class=\"dataframe\">\n",
              "  <thead>\n",
              "    <tr style=\"text-align: right;\">\n",
              "      <th></th>\n",
              "      <th>toxic</th>\n",
              "      <th>severe_toxic</th>\n",
              "      <th>obscene</th>\n",
              "      <th>threat</th>\n",
              "      <th>insult</th>\n",
              "      <th>identity_hate</th>\n",
              "    </tr>\n",
              "  </thead>\n",
              "  <tbody>\n",
              "    <tr>\n",
              "      <th>count</th>\n",
              "      <td>159571.000000</td>\n",
              "      <td>159571.000000</td>\n",
              "      <td>159571.000000</td>\n",
              "      <td>159571.000000</td>\n",
              "      <td>159571.000000</td>\n",
              "      <td>159571.000000</td>\n",
              "    </tr>\n",
              "    <tr>\n",
              "      <th>mean</th>\n",
              "      <td>0.095844</td>\n",
              "      <td>0.009996</td>\n",
              "      <td>0.052948</td>\n",
              "      <td>0.002996</td>\n",
              "      <td>0.049364</td>\n",
              "      <td>0.008805</td>\n",
              "    </tr>\n",
              "    <tr>\n",
              "      <th>std</th>\n",
              "      <td>0.294379</td>\n",
              "      <td>0.099477</td>\n",
              "      <td>0.223931</td>\n",
              "      <td>0.054650</td>\n",
              "      <td>0.216627</td>\n",
              "      <td>0.093420</td>\n",
              "    </tr>\n",
              "    <tr>\n",
              "      <th>min</th>\n",
              "      <td>0.000000</td>\n",
              "      <td>0.000000</td>\n",
              "      <td>0.000000</td>\n",
              "      <td>0.000000</td>\n",
              "      <td>0.000000</td>\n",
              "      <td>0.000000</td>\n",
              "    </tr>\n",
              "    <tr>\n",
              "      <th>25%</th>\n",
              "      <td>0.000000</td>\n",
              "      <td>0.000000</td>\n",
              "      <td>0.000000</td>\n",
              "      <td>0.000000</td>\n",
              "      <td>0.000000</td>\n",
              "      <td>0.000000</td>\n",
              "    </tr>\n",
              "    <tr>\n",
              "      <th>50%</th>\n",
              "      <td>0.000000</td>\n",
              "      <td>0.000000</td>\n",
              "      <td>0.000000</td>\n",
              "      <td>0.000000</td>\n",
              "      <td>0.000000</td>\n",
              "      <td>0.000000</td>\n",
              "    </tr>\n",
              "    <tr>\n",
              "      <th>75%</th>\n",
              "      <td>0.000000</td>\n",
              "      <td>0.000000</td>\n",
              "      <td>0.000000</td>\n",
              "      <td>0.000000</td>\n",
              "      <td>0.000000</td>\n",
              "      <td>0.000000</td>\n",
              "    </tr>\n",
              "    <tr>\n",
              "      <th>max</th>\n",
              "      <td>1.000000</td>\n",
              "      <td>1.000000</td>\n",
              "      <td>1.000000</td>\n",
              "      <td>1.000000</td>\n",
              "      <td>1.000000</td>\n",
              "      <td>1.000000</td>\n",
              "    </tr>\n",
              "  </tbody>\n",
              "</table>\n",
              "</div>\n",
              "      <button class=\"colab-df-convert\" onclick=\"convertToInteractive('df-d8b34ad1-c144-4257-afd4-eb26fd70f9a0')\"\n",
              "              title=\"Convert this dataframe to an interactive table.\"\n",
              "              style=\"display:none;\">\n",
              "        \n",
              "  <svg xmlns=\"http://www.w3.org/2000/svg\" height=\"24px\"viewBox=\"0 0 24 24\"\n",
              "       width=\"24px\">\n",
              "    <path d=\"M0 0h24v24H0V0z\" fill=\"none\"/>\n",
              "    <path d=\"M18.56 5.44l.94 2.06.94-2.06 2.06-.94-2.06-.94-.94-2.06-.94 2.06-2.06.94zm-11 1L8.5 8.5l.94-2.06 2.06-.94-2.06-.94L8.5 2.5l-.94 2.06-2.06.94zm10 10l.94 2.06.94-2.06 2.06-.94-2.06-.94-.94-2.06-.94 2.06-2.06.94z\"/><path d=\"M17.41 7.96l-1.37-1.37c-.4-.4-.92-.59-1.43-.59-.52 0-1.04.2-1.43.59L10.3 9.45l-7.72 7.72c-.78.78-.78 2.05 0 2.83L4 21.41c.39.39.9.59 1.41.59.51 0 1.02-.2 1.41-.59l7.78-7.78 2.81-2.81c.8-.78.8-2.07 0-2.86zM5.41 20L4 18.59l7.72-7.72 1.47 1.35L5.41 20z\"/>\n",
              "  </svg>\n",
              "      </button>\n",
              "      \n",
              "  <style>\n",
              "    .colab-df-container {\n",
              "      display:flex;\n",
              "      flex-wrap:wrap;\n",
              "      gap: 12px;\n",
              "    }\n",
              "\n",
              "    .colab-df-convert {\n",
              "      background-color: #E8F0FE;\n",
              "      border: none;\n",
              "      border-radius: 50%;\n",
              "      cursor: pointer;\n",
              "      display: none;\n",
              "      fill: #1967D2;\n",
              "      height: 32px;\n",
              "      padding: 0 0 0 0;\n",
              "      width: 32px;\n",
              "    }\n",
              "\n",
              "    .colab-df-convert:hover {\n",
              "      background-color: #E2EBFA;\n",
              "      box-shadow: 0px 1px 2px rgba(60, 64, 67, 0.3), 0px 1px 3px 1px rgba(60, 64, 67, 0.15);\n",
              "      fill: #174EA6;\n",
              "    }\n",
              "\n",
              "    [theme=dark] .colab-df-convert {\n",
              "      background-color: #3B4455;\n",
              "      fill: #D2E3FC;\n",
              "    }\n",
              "\n",
              "    [theme=dark] .colab-df-convert:hover {\n",
              "      background-color: #434B5C;\n",
              "      box-shadow: 0px 1px 3px 1px rgba(0, 0, 0, 0.15);\n",
              "      filter: drop-shadow(0px 1px 2px rgba(0, 0, 0, 0.3));\n",
              "      fill: #FFFFFF;\n",
              "    }\n",
              "  </style>\n",
              "\n",
              "      <script>\n",
              "        const buttonEl =\n",
              "          document.querySelector('#df-d8b34ad1-c144-4257-afd4-eb26fd70f9a0 button.colab-df-convert');\n",
              "        buttonEl.style.display =\n",
              "          google.colab.kernel.accessAllowed ? 'block' : 'none';\n",
              "\n",
              "        async function convertToInteractive(key) {\n",
              "          const element = document.querySelector('#df-d8b34ad1-c144-4257-afd4-eb26fd70f9a0');\n",
              "          const dataTable =\n",
              "            await google.colab.kernel.invokeFunction('convertToInteractive',\n",
              "                                                     [key], {});\n",
              "          if (!dataTable) return;\n",
              "\n",
              "          const docLinkHtml = 'Like what you see? Visit the ' +\n",
              "            '<a target=\"_blank\" href=https://colab.research.google.com/notebooks/data_table.ipynb>data table notebook</a>'\n",
              "            + ' to learn more about interactive tables.';\n",
              "          element.innerHTML = '';\n",
              "          dataTable['output_type'] = 'display_data';\n",
              "          await google.colab.output.renderOutput(dataTable, element);\n",
              "          const docLink = document.createElement('div');\n",
              "          docLink.innerHTML = docLinkHtml;\n",
              "          element.appendChild(docLink);\n",
              "        }\n",
              "      </script>\n",
              "    </div>\n",
              "  </div>\n",
              "  "
            ],
            "text/plain": [
              "               toxic   severe_toxic  ...         insult  identity_hate\n",
              "count  159571.000000  159571.000000  ...  159571.000000  159571.000000\n",
              "mean        0.095844       0.009996  ...       0.049364       0.008805\n",
              "std         0.294379       0.099477  ...       0.216627       0.093420\n",
              "min         0.000000       0.000000  ...       0.000000       0.000000\n",
              "25%         0.000000       0.000000  ...       0.000000       0.000000\n",
              "50%         0.000000       0.000000  ...       0.000000       0.000000\n",
              "75%         0.000000       0.000000  ...       0.000000       0.000000\n",
              "max         1.000000       1.000000  ...       1.000000       1.000000\n",
              "\n",
              "[8 rows x 6 columns]"
            ]
          },
          "metadata": {},
          "execution_count": 13
        }
      ]
    },
    {
      "cell_type": "markdown",
      "source": [
        "A etapa seguinte consiste em extrair o que são de fato os comentários.\n",
        "- Nesta base de dados, os comentários estão dispostos na forma: coluna; comentário; texto.\n",
        "- Na linha a seguir, note que não foi utilizado o dropna, que remove as linhas contendo missing values. Foi utilizado o comando **\"fillna\"**, o qual confere o valor \"DUMMY_VALUE\" às entradas sem valores:\n",
        "```\n",
        "sentences = train[\"comment_text\"].fillna(\"DUMMY_VALUE\").values\n",
        "```\n",
        "- Note ainda que o comando **.values** faz com que o NumPy array \"sentences\" armazene apenas os valores do campo \"comment_text\" dos dados de treino (já com o preenchimento dos missing values).\n",
        "- A lista \"possible_labels\" define como os comentários poderão ser rotulados. Note que as classificações não são mutuamente exclusivas: um comentário pode ser classificado em mais de um rótulo, de modo que cada um deles é uma resposta binária **(o comentário pertence = 1; ou não pertence = 0 àquela classe)** independente.\n",
        "- Na realidade, esta lista não apresenta nomes que serão fornecidos ao dataframe de treino. Ela apenas discrimina quais dados do dataframe serão utilizados como targets.\n",
        "- Esta lista é passada como argumento da linha a seguir. Nela, **o comando .values faz com que o dataframe \"target\" armazene os valores das colunas dos dados de treinamento, desde que estas colunas estejam entre as discriminadas na lista**."
      ],
      "metadata": {
        "id": "gSN9M-2cOigy"
      }
    },
    {
      "cell_type": "markdown",
      "source": [
        "# **Aplicar o método keras.tokenizer para conversão das sentenças em números inteiros**"
      ],
      "metadata": {
        "id": "9RYyO1y2fHGy"
      }
    },
    {
      "cell_type": "markdown",
      "source": [
        "Esta é mais uma etapa de pré-processamento textual. Note que, até aqui, ainda temos uma lista que lembra uma serra, já que cada sentença ainda apresenta um comprimento diferente.\n",
        "- Logicamente, a lista ainda é constituída por strings, o que não é processável pelas redes neurais (as redes neurais exigem que as strings sejam convertidas em valores numéricos).\n",
        "- As strings ainda contêm os comentários completos, ou seja, ainda não foram tokenizadas.\n",
        "- Devemos aplicar o **método tokenizer da biblioteca keras** para resolver estes problema: o **keras.tokenizer** converte as sentenças em listas de tokens e, a seguir, converte estas listas em números inteiros.\n",
        "- Estes números inteiros serão usados para indexar o **word embedding** (a matriz contendo os vetores das palavras, na qual cada linha da matriz corresponde ao vetor numérico de uma palavra)."
      ],
      "metadata": {
        "id": "MlsGiblYhBA3"
      }
    },
    {
      "cell_type": "code",
      "source": [
        "# convert the sentences (strings) into integers\n",
        "tokenizer = Tokenizer(num_words=MAX_VOCAB_SIZE)\n",
        "tokenizer.fit_on_texts(sentences)\n",
        "sequences = tokenizer.texts_to_sequences(sentences)"
      ],
      "metadata": {
        "id": "PKdtjKzHZwDa"
      },
      "execution_count": 6,
      "outputs": []
    },
    {
      "cell_type": "markdown",
      "source": [
        "# **Caracterização das sequências de texto obtidas e convertidas em inteiros**"
      ],
      "metadata": {
        "id": "3c3ZXakVf4uO"
      }
    },
    {
      "cell_type": "markdown",
      "source": [
        "Vamos caracterizar os comentários, agora que foram tokenizados e convertidos em números inteiros"
      ],
      "metadata": {
        "id": "okvHwDWCik9e"
      }
    },
    {
      "cell_type": "code",
      "source": [
        "print(\"max sequence length:\", max(len(s) for s in sequences))\n",
        "print(\"min sequence length:\", min(len(s) for s in sequences))\n",
        "s = sorted(len(s) for s in sequences)\n",
        "print(\"median sequence length:\", s[len(s) // 2])\n",
        "\n",
        "print(\"max word index:\", max(max(seq) for seq in sequences if len(seq) > 0))"
      ],
      "metadata": {
        "colab": {
          "base_uri": "https://localhost:8080/"
        },
        "id": "yHSDzHJ0fwLo",
        "outputId": "152a6598-416a-40e3-9745-a717c5a59016"
      },
      "execution_count": 7,
      "outputs": [
        {
          "output_type": "stream",
          "name": "stdout",
          "text": [
            "max sequence length: 1400\n",
            "min sequence length: 0\n",
            "median sequence length: 35\n",
            "max word index: 19999\n"
          ]
        }
      ]
    },
    {
      "cell_type": "markdown",
      "source": [
        "Note que aqui as sequências são, na realidade, os comentários, os quais podem conter mais de uma sentença. Porém, para os propósitos desta análise em particular, é mais simples chamar a string completa do comentário de sentença."
      ],
      "metadata": {
        "id": "Ku9HnflEgWr3"
      }
    },
    {
      "cell_type": "markdown",
      "source": [
        "# **Associar cada palavra a uma linha (vetor de palavras) do word embedding**"
      ],
      "metadata": {
        "id": "7nnU3cv_zLle"
      }
    },
    {
      "cell_type": "markdown",
      "source": [
        "Agora que as sentenças foram convertidas em números inteiros, surge a pergunta sobre a qual palavra cada número inteiro corresponde.\n",
        "- Além disso, desejamos saber qual linha do word embedding pertence a cada palavra.\n",
        "- Lembrando o que é o word embedding: **word embedding é a matriz dos vetores das palavras. Cada linha do word embedding representa o vetor numérico associado a cada palavra**. \n",
        "- Indexar aqui significa encontrar o índice do vetor (ou seja a linha do word embedding) que descreve cada uma das palavras tokenizadas."
      ],
      "metadata": {
        "id": "_HCjCbO3pcbK"
      }
    },
    {
      "cell_type": "markdown",
      "source": [
        "Para isso, precisamos de um **mapeamento palavra-para-índice** (word to index mapping).\n",
        "- Neste mapa, a chave (key) será a palavra, e o índice será o valor correspondente.\n",
        "- **O keras.tokenizer mantém esta informação de mapeamento em um atributo chamado word_index**."
      ],
      "metadata": {
        "id": "agUpcMQSypG5"
      }
    },
    {
      "cell_type": "code",
      "source": [
        "# get word -> integer mapping\n",
        "word2idx = tokenizer.word_index\n",
        "print('Found %s unique tokens.' % len(word2idx))"
      ],
      "metadata": {
        "colab": {
          "base_uri": "https://localhost:8080/"
        },
        "id": "jKZWevVzzdWc",
        "outputId": "ab55c385-d966-4aed-f207-83abffa34dac"
      },
      "execution_count": 8,
      "outputs": [
        {
          "output_type": "stream",
          "name": "stdout",
          "text": [
            "Found 210337 unique tokens.\n"
          ]
        }
      ]
    },
    {
      "cell_type": "markdown",
      "source": [
        "Note que o mesmo atributo é utilizado para nos informar **quantas palavras foram encontradas no dataset: este valor será igual ao tamanho (length) do dicionário obtido**."
      ],
      "metadata": {
        "id": "LzHXzzm_zt27"
      }
    },
    {
      "cell_type": "markdown",
      "source": [
        "# **Limitar comprimento das sequências de texto com o método pad_sequences**"
      ],
      "metadata": {
        "id": "Vn38u-CS0oJV"
      }
    },
    {
      "cell_type": "markdown",
      "source": [
        "Neste momento, ainda temos um problema com nossos dados: os arrays continuam com tamanhos diferentes, formando um aspecto de serra.\n",
        "\n",
        "- Para resolver este problema, a próxima etapa de pré-processamento será aplicar o **método pad_sequences, com comprimento máximo definido previamente na variável MAX_SEQUENCE_LENGTH**."
      ],
      "metadata": {
        "id": "T4x1rulG0IKE"
      }
    },
    {
      "cell_type": "code",
      "source": [
        "# pad sequences so that we get a N x T matrix\n",
        "data = pad_sequences(sequences, maxlen=MAX_SEQUENCE_LENGTH)\n",
        "print('Shape of data tensor:', data.shape)"
      ],
      "metadata": {
        "colab": {
          "base_uri": "https://localhost:8080/"
        },
        "id": "3WVLgpwr0z2X",
        "outputId": "062eb7dc-be79-4982-d7e0-c8a09940532b"
      },
      "execution_count": 9,
      "outputs": [
        {
          "output_type": "stream",
          "name": "stdout",
          "text": [
            "Shape of data tensor: (159571, 100)\n"
          ]
        }
      ]
    },
    {
      "cell_type": "markdown",
      "source": [
        "Esta etapa é particularmente importante porque a biblioteca **Keras trabalha com sequências de dimensões constantes**.\n",
        "- O formato do tensor de dados representa a dimensão da matriz (N x T) obtida. Limitamos a 100 o máximo comprimento da sequência de textos.\n",
        "- N = contagem de elementos, que foi anteriormente observada na linha **count** do dataframe gerado como** train.describe()**;\n",
        "- T será o máximo comprimento permitido para o vetor de palavras (máximo possível de colunas), definido como **MAX_SEQUENCE_LENGTH = 100**."
      ],
      "metadata": {
        "id": "QplYu8hQ1A-s"
      }
    },
    {
      "cell_type": "markdown",
      "source": [
        "Note que, para que todas as sequências tenham o mesmo comprimento, **caso o vetor tenha um comprimento menor que MAX_SEQUENCE_LENGTH, o método pad_sequences adicionará vários números zero ao fim dele** até que ele atinja o comprimento máximo."
      ],
      "metadata": {
        "id": "F0MLO-JS2GkB"
      }
    },
    {
      "cell_type": "markdown",
      "source": [
        "Uma questão que surge é como saber se o vetor ao qual foram adicionados os números zero não passou a ser igual a um outro vetor de palavras previamente definido no nosso vocabulário.\n",
        "- Esta é uma questão válida, já que, ao construir o dicionário que correlaciona as palavras aos índices, nós utilizamos o zero para representar uma das palavras.\n",
        "- Porém, **neste caso em particular, Keras inicia a indexação pelo número 1, e apenas utiliza o zero como um valor especial reservado para a operação de padding**.\n",
        "- Desde que você **permaneça no ecossistema Keras durante as etapas de pré-processamento de texto**, a adição dos números zero não será um problema."
      ],
      "metadata": {
        "id": "WaFn6gAcA979"
      }
    },
    {
      "cell_type": "markdown",
      "source": [
        "# **Pré-carregar a matriz de incorporação (\"embedding matrix\") que será utilizada pela rede neural**"
      ],
      "metadata": {
        "id": "UxDgi89rCrAb"
      }
    },
    {
      "cell_type": "markdown",
      "source": [
        "No começo deste notebook, carregamos vetores de palavras previamente definidos, contidos no arquivo glove.\n",
        "\n",
        "- A primeira coisa a fazer agora é verificar o número de palavras que será realmente utilizado como vocabulário da rede neural.\n",
        "\n",
        "Este valor é simplesmente o mínimo entre MAX_VOCAB_SIZE = 20000, e o **comprimento (total de palavras) do dicionário** palavra-para-índice (\"*word to index dictionary*\") **somado a 1**.\n",
        "\n",
        "Explicação:\n",
        "- Lembre-se que definimos nos parâmetros de configuração inicial:\n",
        "```\n",
        "MAX_VOCAB_SIZE = 20000\n",
        "```\n",
        "\n",
        "- Entretanto, o número de palavras no dataset pode ser menor que 20.000. Neste caso, nós não queremos que sejam criados 20.000 vetores de palavras, mas sim o **menor número possível de vetores** (ou seja, armazenaremos menos que 20000 palavras).\n",
        "\n",
        "- Por sua vez, o número de palavras pode ser superior a 20000. Nesta situação, **desejamos truncar os dados (o vocabulário) para que reste apenas MAX_VOCAB_SIZE = 20000 vetores**."
      ],
      "metadata": {
        "id": "WuDiTn4z1c_I"
      }
    },
    {
      "cell_type": "code",
      "source": [
        "# prepare embedding matrix\n",
        "print('Filling pre-trained embeddings...')\n",
        "num_words = min(MAX_VOCAB_SIZE, len(word2idx) + 1)"
      ],
      "metadata": {
        "colab": {
          "base_uri": "https://localhost:8080/"
        },
        "id": "iwcfLgYb21qP",
        "outputId": "b660c934-5ca4-4d5e-bc26-d4f58aa82a58"
      },
      "execution_count": 10,
      "outputs": [
        {
          "output_type": "stream",
          "name": "stdout",
          "text": [
            "Filling pre-trained embeddings...\n"
          ]
        }
      ]
    },
    {
      "cell_type": "markdown",
      "source": [
        "O trecho acima:\n",
        "\n",
        "1) Verifica o total de vetores de palavras presente no vocabulário (o comprimento/dimensão do dicionário);\n",
        "\n",
        "2) Compara este valor com MAX_VOCAB_SIZE.\n",
        "- Se o tamanho do vocabulário for menor que MAX_VOCAB_SIZE, então MAX_VOCAB_SIZE é igualado ao tamanho do dicionário + 1 para que possamos trabalhar com o menor número possível de vetores de palavras (i.e., com menos palavras);\n",
        "- Se a dimensão for maior que MAX_VOCAB_SIZE, truncamos o vocabulário de modo que ele terá apenas MAX_VOCAB_SIZE = 20000 palavras."
      ],
      "metadata": {
        "id": "J2S_jak_6gYq"
      }
    },
    {
      "cell_type": "markdown",
      "source": [
        "Note que **precisamos somar 1** em\n",
        "\n",
        "```\n",
        "num_words = min(MAX_VOCAB_SIZE, len(word2idx) + 1)\n",
        "```\n",
        "**Porque, como visto, a biblioteca Keras inicia a indexação dos vetores de palavras em 1**, reservando o valor zero para as operações de padding.\n",
        "\n",
        "Assim, se tivermos 20000 palavras, o índice da última palavra será efetivamente 20000, e não 19999 (índice esperado se a numeração começasse em zero, como comumente ocorre com as listas em Python).\n",
        "\n",
        "Assim, caso deseje utilizar o índice para indexar um array, é necessário acrescentar um elemento. Isso porque, em Python, a numeração dos elementos dos arrays, assim como das listas, começa em zero.\n"
      ],
      "metadata": {
        "id": "9PnmgbKz8_Y4"
      }
    },
    {
      "cell_type": "markdown",
      "source": [
        "Outra questão que pode surgir é: uma vez que tomamos o mínimo entre 20000 e o tamanho do vocabulário, o que ocorrerá se houver índices no array de dados maiores que 20000?\n",
        "\n",
        "De fato, caso tente indexar um array por um número maior ou igual ao seu comprimento, o resultado será uma exceção (\"*exception error*\").\n",
        "\n",
        "Felizmente, esta questão já foi resolvida anteriormente durante a criação do tokenizer:\n",
        "```\n",
        "tokenizer = Tokenizer(num_words=MAX_VOCAB_SIZE)\n",
        "```\n",
        "Como utilizamos MAX_VOCAB_SIZE como um dos argumentos do método Tokenizer, **Keras já definiu que estes índices, caso existam, estarão fora dos tolkens do vocabulário**.\n",
        "\n",
        "- OBS: comumente encontramos estas situações que foram assinaladas como fora dos tolkens referenciadas pela abreviatura **OOV** (\"*out of vocabulary*\").\n",
        "- Outra abreviação comumente encontrada em comentários de códigos é **UNK, referente a unknown**."
      ],
      "metadata": {
        "id": "GLrxko-a-Qqy"
      }
    },
    {
      "cell_type": "markdown",
      "source": [
        "# **Criação da matriz embedding**"
      ],
      "metadata": {
        "id": "WqRrzMIHA1qJ"
      }
    },
    {
      "cell_type": "markdown",
      "source": [
        "A última etapa do pré-processamento do texto consiste em criar uma matriz V x D de zeros, que será o **embedding**. V é simplesmente o número de palavras num_words, o qual já calculamos, e D é a dimensão do embedding, EMBEDDING_DIM.\n",
        "\n",
        "A seguir, criamos um loop que avalie cada palavra do dicionário palavras-para-índices (\"word to index dictionary\").\n",
        "\n",
        "- **Se o índice for menor que o MAX_VOCAB_SIZE** (já corrigido para o caso de haver menos palavras que o definido nos parâmetros), **então ele deverá estar no embedding**.\n",
        "- Esta etapa consiste, então, em uma tentativa de recuperar o vetor de palavras pré-treinado do dicionário de palavras.\n",
        "- Lembre-se que os **vetores de palavras pré-configurados vêm de uma fonte (arquivos glove) diferente da fonte dos comentários classificados como tóxicos e utilizados como dados de treinamento** (arquivo train.csv). \n",
        "- Como os dados de treinamento é que são utilizados para construir o dicionário, **é possível que determinados vetores de palavras pré-treinados não sejam encontrados no dicionário** (as duas fontes de dados, glove e train, não são necessariamente equivalentes).\n",
        "\n"
      ],
      "metadata": {
        "id": "8Gq6QpZ6A6dZ"
      }
    },
    {
      "cell_type": "code",
      "source": [
        "embedding_matrix = np.zeros((num_words, EMBEDDING_DIM))\n",
        "\n",
        "for word, i in word2idx.items():\n",
        "  if i < MAX_VOCAB_SIZE:\n",
        "    embedding_vector = word2vec.get(word)\n",
        "    if embedding_vector is not None:\n",
        "      # words not found in embedding index will be all zeros.\n",
        "      embedding_matrix[i] = embedding_vector"
      ],
      "metadata": {
        "id": "rB9BnSZbDy3A"
      },
      "execution_count": 11,
      "outputs": []
    },
    {
      "cell_type": "markdown",
      "source": [
        "Repare que utilizamos o método **get** em:\n",
        "\n",
        "```\n",
        "word2vec.get(word)\n",
        "```\n",
        "Caso a chave (key) correspondente a um dos vetores de palavras pré-configurados não seja encontrada no dicionário (ou seja, caso aquela palavra não esteja presente no vocabulário de treinamento), **o método get simplesmente retorna um valor nulo como chave do dicionário, ao invés de gerar uma exceção, como ocorreria ao se tentar indexar um array ou lista**.\n",
        "\n",
        "- O trecho acima também verifica, na sequência, se o vetor é nulo, em:\n",
        "```\n",
        " if embedding_vector is not None:\n",
        "```\n",
        "- Caso o vetor não seja nulo, ele é assinalado à matriz de embedding na localização apropriada.\n",
        "\n"
      ],
      "metadata": {
        "id": "dae0HeWVEEmZ"
      }
    },
    {
      "cell_type": "markdown",
      "source": [
        "# **Construção e avaliação da RNN**"
      ],
      "metadata": {
        "id": "jo3lUR33FmFa"
      }
    },
    {
      "cell_type": "markdown",
      "source": [
        "As etapas anteriores constituíram o pré-processamento do texto necessário à construção do modelo de redes neurais.\n",
        "\n",
        "Estas etapas constituem cerca de 90% do código do notebook, e **muitas delas são genéricas e aplicáveis a diversos exemplos de NLP**."
      ],
      "metadata": {
        "id": "4ehG4P03F0Nv"
      }
    },
    {
      "cell_type": "markdown",
      "source": [
        "# **Criação da camada de embedding**"
      ],
      "metadata": {
        "id": "bqJDGfflnC7x"
      }
    },
    {
      "cell_type": "markdown",
      "source": [
        "A criação da camada de embedding consiste em simplesmente criar um objeto do tipo \"**Embedding**\"."
      ],
      "metadata": {
        "id": "o-A-zvQZnKkO"
      }
    },
    {
      "cell_type": "code",
      "source": [
        "# load pre-trained word embeddings into an Embedding layer\n",
        "# note that we set trainable = False so as to keep the embeddings fixed\n",
        "embedding_layer = Embedding(\n",
        "  num_words,\n",
        "  EMBEDDING_DIM,\n",
        "  weights=[embedding_matrix],\n",
        "  input_length=MAX_SEQUENCE_LENGTH,\n",
        "  trainable=False\n",
        ")\n",
        "\n",
        "\n",
        "print('Building model...')"
      ],
      "metadata": {
        "colab": {
          "base_uri": "https://localhost:8080/"
        },
        "id": "8PLJdSb0BRkS",
        "outputId": "a3636a04-ee92-4140-e845-636706b5c02a"
      },
      "execution_count": 12,
      "outputs": [
        {
          "output_type": "stream",
          "name": "stdout",
          "text": [
            "Building model...\n"
          ]
        }
      ]
    },
    {
      "cell_type": "markdown",
      "source": [
        "Os dois primeiros argumentos para construção da camada de embedding são o total de palavras \"**num_words**\" (tamanho do vocabulário); e a dimensão do embedding \"EMBEDDING_DIM\".\n",
        "\n",
        "- A seguir, vem o argumento **\"weights\"**: nós passamos como argumento justamente **a matriz de embedding que construímos nas etapas anteriores**.\n",
        "- O argumento **\"input_length\"** informa ao objeto embedding **quão longas nossas sequências serão. Este valor foi fornecido inicialmente em MAX_SEQUENCE_LENGTH**.\n",
        "- No último argumento (\"**trainable**\") fornecemos o valor booleano **False pois não desejamos que os pesos sejam atualizados durante o procedimento de treino (estamos utilizando vetores pré-treinados** da base glove.6B).\n",
        "- Logicamente, é permitido realizar a atualização, modificando-se o parâmetro para True. Porém, isto representará maior custo computacional e, possivelmente, um tempo longo de treinamento."
      ],
      "metadata": {
        "id": "6HTw3S09naOH"
      }
    },
    {
      "cell_type": "markdown",
      "source": [
        "# **Construção do restante do modelo de redes neurais convolucionais (CNNs)**"
      ],
      "metadata": {
        "id": "cMUJb5K7pcel"
      }
    },
    {
      "cell_type": "markdown",
      "source": [
        "Temos aqui um tensor de dados (variável \"data\") constituídos pelos comentários a serem classificados. É uma matriz N x T contendo os índices das palavras, na qual N é o total de amostras/dados e T é o comprimento da sequência.\n",
        "- Temos também a variável \"target\", que representa os rótulos atribuídos a cada sequência. É uma matriz de dimensão N x 6, já que definimos 6 rótulos possíveis.\n",
        "- Além disso, temos a matriz de embedding, de dimensão V x D, à qual já assinalamos alguns vetores de palavras. V é o tamanho do vocabulário e D é a dimensão do embedding.\n"
      ],
      "metadata": {
        "id": "J4QALznJ_EL0"
      }
    },
    {
      "cell_type": "markdown",
      "source": [
        "Para construção da rede neural em Keras, o primeiro requisito é criar o objeto de input.\n",
        "\n",
        "- Devemos especificar cada uma das dimensões, exceto o tamanho da amostra, o qual já está implícito.\n",
        "- Como visto, o input usará como argumento um tensor de dados de dimensão N x T, onde N = contagem de elementos (tamanho de amostra, implícito), e T = máximo comprimento permitido para o vetor de palavras = **MAX_SEQUENCE_LENGTH = 100**.\n",
        "- Assim, precisamos apenas fornecer T = MAX_SEQUENCE_LENGTH como argumento de criação do objeto de input.\n",
        "\n",
        "A seguir, utilizamos este input como argumento da camada de embedding que criamos a pouco."
      ],
      "metadata": {
        "id": "RZQYAdSApy1v"
      }
    },
    {
      "cell_type": "code",
      "source": [
        "# create an LSTM network with a single LSTM\n",
        "input_ = Input(shape=(MAX_SEQUENCE_LENGTH,))\n",
        "x = embedding_layer(input_)\n",
        "x = LSTM(15, return_sequences=True)(x)\n",
        "\n",
        "# x = Bidirectional(LSTM(15, return_sequences=True))(x)\n",
        "# A linha comentada acima é a alteração para utilizarmos o LSTM bidirecional.\n",
        "# O LSTM bidirecional não deve ser empregado para séries temporais, quando\n",
        "# desejamos avaliar um valor futuro.\n",
        "\n",
        "x = GlobalMaxPool1D()(x)\n",
        "output = Dense(len(possible_labels), activation=\"sigmoid\")(x)"
      ],
      "metadata": {
        "id": "yfvKBK3ApqpI"
      },
      "execution_count": 14,
      "outputs": []
    },
    {
      "cell_type": "markdown",
      "source": [
        "Repare no trecho:\n",
        "```\n",
        "x = embedding_layer(input_)\n",
        "```\n",
        "Aqui está sendo utilizado o API funcional Keras (\"Keras functional API\") para passar o input como argumento da camada de embedding.\n",
        "- Isto torna a sintaxe ligeiramente diferente da encontrada em outros códigos Keras que usam o modelo sequencial.\n",
        "\n"
      ],
      "metadata": {
        "id": "N2KcUVwNRah9"
      }
    },
    {
      "cell_type": "markdown",
      "source": [
        "# **Unidade recursiva: LSTM**\n",
        "\n",
        "- Após passar pela camada de embedding (assim como ocorre com as CNNs), os inputs têm de passar pela unidade recursiva.\n",
        "\n",
        "- Aqui, especificamos a unidade recursiva como LSTM.\n",
        "- Repare que definimos `return_sequences = True`, de modo que o sistema retorna todos os estados como valores de saída (e não apenas o último estado, como ocorre quando este parâmetro está em seu valor padrão, False)."
      ],
      "metadata": {
        "id": "H2UuD1IESNUZ"
      }
    },
    {
      "cell_type": "markdown",
      "source": [
        "# **Camada de agrupamento (\"Pooling layer\")**\n",
        "\n",
        "https://machinelearningmastery.com/pooling-layers-for-convolutional-neural-networks/\n",
        "\n",
        "A explicação a seguir refere-se ao caso mais geral das redes neurais convolucionais com 2 dimensões, aplicadas ao processamento de imagens. Como o caso bidimensional é uma extensão do unidimensional, as mesmas considerações são válidas para o processamento de textos por NLP.\n",
        "\n",
        "As camadas convolucionais em uma rede neural convolucional aplicam sistematicamente os filtros aprendidos às imagens de input de modo a criar mapas de características (\"**feature maps**\") que resumem a presença daquelas características da imagem de entrada.\n",
        "\n",
        "As camadas convolucionais se mostram bastante eficientes, e o empilhamento (\"stacking\") de camadas convolucionais em modelos deep learning permitem que as camadas mais próximas ao input aprendam características de baixo nível (\"low-level features\"), tais como linhas. Enquanto isso, as camadas mais profundas do modelo aprendem características de ordem mais elevada e mais abstratas, tais como a forma ou objetos específicos.\n",
        "\n",
        "**Uma limitação do mapa de características das camadas convolucionais é que eles gravam a posição precisa das características de input**. Isto significa que pequenos deslocamentos na posição daquela característica na imagem de input resultarão em um mapa de características diferente. Isto pode ocorrer mesmo com modificações mínimas da imagem, tais como corte, rotação, deslocamento (\"shifting\"), ou espelhamento da imagem.\n",
        "\n",
        "Uma metodologia comumente empregada para solucionar este problema no processamento de sinais é chamada redução de amostragem (\"down sampling\"). Nesta estratégia, **uma versão de resolução mais baixa do sinal de entrada é criada, e tal versão contém os maiores ou mais importantes elementos estruturais, mas não os detalhes finos que podem não ser tão úteis na tarefa de classificação**.\n",
        "\n",
        "O \"down sampling\" pode ser obtido com as camadas convolucionais por meio da alteração do caminho de convolução ao qual se submete a imagem. **Uma abordagem comum e mais robusta é a utilização de uma camada de agrupamento (\"pooling layer\")**.\n",
        "\n",
        "A camada de agrupamento é uma nova camada adicionada após a camada convolucional. Mais especificamente, **uma não-linearidade (e.g. ReLU) é aplicada aos mapas de características obtidos como saída da camada convolucional, e estes novos mapas são utilizados como inputs da camada de agrupamento**. Assim, a sequência de camadas e operações do modelo segue o esquema:\n",
        "\n",
        "- Imagem de input;\n",
        "- Camada Convolucional;\n",
        "- Não-linearidade;\n",
        "- Camada de agrupamento.\n",
        "\n",
        "**A adição da camada de agrupamento após a camada convolucional é um padrão comumente empregado para ordenamento de camadas em uma rede neural convolucional**, e pode ser repetido uma ou mais vezes em um modelo.\n",
        "\n",
        "A camada de agrupamento opera separadamente sobre cada mapa de características de modo a criar um novo conjunto com o mesmo número de mapas de características agrupadas.\n",
        "\n",
        "O agrupamento envolve a seleção de uma operação de agrupamento, de forma muito semelhante a um filtro aplicado a mapas de características. As dimensões da operação ou filtro de agrupamento são menores que o tamanho do mapa de características. Quase sempre se aplica 2x2 pixels com um caminho de 2 pixels.\n",
        "\n",
        "**Isto significa que a camada de agrupamento sempre reduz a dimensão de um mapa de características por um fator igual a 2**. \n",
        "\n",
        "**Assim, cada dimensão é reduzida pela metade**, reduzindo o total de pixels (imagem bidimensional) ou os valores do mapa de características a 1/4 do seu tamanho original. Por exemplo, uma camada de agrupamento aplicada a um mapa de características 6x6 (36 pixels) resultará em um mapa de características agrupado (saída) de dimensões 3x3 (9 pixels).\n",
        "\n",
        "**A operação de agrupamento não é aprendida, mas sim especificada**. Duas funções comumente empregadas para o agrupamento são:\n",
        "\n",
        "- **\"Average Pooling\"**: calcula o valor médio para cada fragmento (\"patch\") do mapa de características.\n",
        "- **\"Maximum Pooling\"**: calcula o valor máximo para cada fragmento (\"patch\") do mapa de características.\n",
        "\n",
        "O resultado da utilização de uma camada de agrupamento e da criação de amostras reduzidas ou agrupadas dos mapas de características é a **obtenção de uma versão resumida das características a serem detectadas no input**.\n",
        "\n",
        "Esta versão resumida é útil porque **pequenas mudanças de posição de uma determinada característica na entrada (detectada pela camada convolucional) resultarão em um mapa de características agrupadas (\"pooled\") com a característica na mesma localização**. \n",
        "\n",
        "Esta capacidade fornecida pela \"pooling layer\" é chamada de **invariância do modelo à translação local**."
      ],
      "metadata": {
        "id": "09G_xFxRJwTz"
      }
    },
    {
      "cell_type": "markdown",
      "source": [
        "Como temos uma única operação de Pooling, esta é **a  última operação de \"Maximum Pooling\", chamada de Global, e não possui parâmetros de entrada**:\n",
        "\n",
        "```\n",
        "x = GlobalMaxPooling1D()(x)\n",
        "```\n",
        "**Global Maximum Pooling**: a utilização desta operação indica que temos uma série temporal, mas não nos importamos com o quão longa esta série é. **Apenas tomamos o maior valor da série temporal em cada dimensão**.\n",
        "\n",
        "- Repare que os inputs são matrizes de dimensões T x M, onde T é o comprimento da sequência e M é o total de propriedades (\"features\"). Após aplicarmos o Global Maximum Pooling, a saída será de comprimento M.\n",
        "\n",
        "```\n",
        "T x M --> GlobalMaxPooling --> M\n",
        "```\n",
        "- Esta operação pode ser entendida como **a seleção de qual ponto do intervalo de tempo foi mais importante para o cálculo da saída**.\n",
        "- Assim, nós percorremos toda a série temporal e, com isso, descobrimos quando ocorreu a característica mais importante.\n",
        "\n",
        "#### **Note que a operação de Pooling tem a função de encontrar qual o maior dentre todos os valores de saída.** \n",
        "\n",
        "Caso desejássemos apenas o último resultado, bastaria manter `return_sequences = False` e não realizar nenhum Pooling.\n"
      ],
      "metadata": {
        "id": "Ezh6uOE3JxTx"
      }
    },
    {
      "cell_type": "markdown",
      "source": [
        "# **Camadas densas (\"dense layers\")**\n",
        "\n",
        "Para completar o modelo, submetemos a saída da última camada de pooling a um par de camadas densas (assim como em redes neurais artificiais simples). Na segunda delas, modificamos a função de ativação para a sigmoide, possibilitando a captura de outros aspectos de não-linearidade."
      ],
      "metadata": {
        "id": "4AnxC0vktxjW"
      }
    },
    {
      "cell_type": "code",
      "source": [
        "x = Dense(128, activation='relu')(x)\n",
        "output = Dense(len(possible_labels), activation='sigmoid')(x)"
      ],
      "metadata": {
        "id": "M0Q-0pY3rI0h"
      },
      "execution_count": 15,
      "outputs": []
    },
    {
      "cell_type": "markdown",
      "source": [
        "O motivo de desejarmos utilizar aqui a função sigmoide é que **estamos realizando 6 classificações binárias, uma para cada um dos rótulos de toxicidade propostos**.\n",
        "- Lembre-se que cada comentário pode ter de 1 a 6 rótulos, ou mesmo nenhum rótulo (situação na qual a resposta é igual a zero para todas as 6 respostas).\n",
        "\n",
        "Com esta etapa, concluímos a construção do modelo, **sendo a camada de saída do modelo assinalada à variável \"output\" em**:\n",
        "\n",
        "```\n",
        "output = Dense(len(possible_labels), activation='sigmoid')(x)\n",
        "```\n",
        "- Repare que a saída do modelo, \"output\", leva um argumento anterior à última função de ativação: a quantidade de variáveis de saída. **Como temos uma resposta correspondente a cada rótulo, o primeiro argumento é igual ao comprimento (total de elementos) da lista que armazena os rótulos possíveis**.\n",
        "\n",
        "Por fim, vale destacar que **cada uma das operações de convolução, Pooling, ou Dense corresponde a uma camada da rede neural construída**."
      ],
      "metadata": {
        "id": "fCuD3Z5mvP7y"
      }
    },
    {
      "cell_type": "markdown",
      "source": [
        "# **Criação de um objeto do modelo (\"model object\")**\n",
        "\n",
        "Agora que concluímos a construção do modelo, podemos assinalar ele a um objeto que armazenará as suas principais informações.\n",
        "\n",
        "- **A função construtora (\"constructor\") deste objeto utiliza como primeiro argumento o input, e a saída (\"output\") como segundo argumento**."
      ],
      "metadata": {
        "id": "DCGAMPaCwIYn"
      }
    },
    {
      "cell_type": "code",
      "source": [
        "model = Model(input_, output)"
      ],
      "metadata": {
        "id": "xTvEzGBpwyQh"
      },
      "execution_count": 16,
      "outputs": []
    },
    {
      "cell_type": "markdown",
      "source": [
        "Note que o objeto que armazena o modelo foi denominado \"model\"."
      ],
      "metadata": {
        "id": "KchbpYrnw0Yu"
      }
    },
    {
      "cell_type": "markdown",
      "source": [
        "# **Compilar o modelo para treinamento**\n",
        "\n",
        "Neste exemplo, utilizamos a \"binary_crossentropy\" como função de perda (\"loss function\"), e não a \"categorical cross entropy\".\n",
        "\n",
        "- Em \"optimizer\", utilizamos um otimizador adaptativo. As outras opções disponíveis podem ser utilizadas aqui.\n",
        "\n",
        "- Desejamos saber a precisão do modelo enquanto o treinamos. Para isso, passamos \"accuracy\" como parâmetro de compilamento do modelo.\n"
      ],
      "metadata": {
        "id": "3TygEjOXw9Ou"
      }
    },
    {
      "cell_type": "code",
      "source": [
        "model = Model(input_, output)\n",
        "model.compile(\n",
        "  loss='binary_crossentropy',\n",
        "  #optimizer=Adam(lr=0.01),\n",
        "  metrics=['accuracy'],\n",
        ")"
      ],
      "metadata": {
        "id": "qomVvnpfx1YW"
      },
      "execution_count": 17,
      "outputs": []
    },
    {
      "cell_type": "markdown",
      "source": [
        "# **Treinar o modelo**\n",
        "\n",
        "- Utilizamos o método **.fit** para treinar o modelo.\n",
        "- **O modelo treinado ficará armazenado no objeto r** definido a seguir."
      ],
      "metadata": {
        "id": "TCUREOy1yHiO"
      }
    },
    {
      "cell_type": "code",
      "source": [
        "print('Training model...')\n",
        "r = model.fit(\n",
        "  data,\n",
        "  targets,\n",
        "  batch_size=BATCH_SIZE,\n",
        "  epochs=EPOCHS,\n",
        "  validation_split=VALIDATION_SPLIT\n",
        ")"
      ],
      "metadata": {
        "colab": {
          "base_uri": "https://localhost:8080/"
        },
        "id": "wutstPIgyDid",
        "outputId": "94e87b76-108e-4d54-a912-56f0ffe4311a"
      },
      "execution_count": 18,
      "outputs": [
        {
          "output_type": "stream",
          "name": "stdout",
          "text": [
            "Training model...\n",
            "Epoch 1/5\n",
            "998/998 [==============================] - 28s 22ms/step - loss: 0.0877 - accuracy: 0.9678 - val_loss: 0.0640 - val_accuracy: 0.9941\n",
            "Epoch 2/5\n",
            "998/998 [==============================] - 21s 21ms/step - loss: 0.0610 - accuracy: 0.9942 - val_loss: 0.0596 - val_accuracy: 0.9941\n",
            "Epoch 3/5\n",
            "998/998 [==============================] - 22s 22ms/step - loss: 0.0579 - accuracy: 0.9942 - val_loss: 0.0581 - val_accuracy: 0.9941\n",
            "Epoch 4/5\n",
            "998/998 [==============================] - 21s 22ms/step - loss: 0.0562 - accuracy: 0.9942 - val_loss: 0.0562 - val_accuracy: 0.9940\n",
            "Epoch 5/5\n",
            "998/998 [==============================] - 21s 21ms/step - loss: 0.0548 - accuracy: 0.9940 - val_loss: 0.0556 - val_accuracy: 0.9940\n"
          ]
        }
      ]
    },
    {
      "cell_type": "markdown",
      "source": [
        "### Acima, **nota-se que o treinamento de uma rede neural recorrente é muito mais lento que o de uma rede neural convolucional**.\n",
        "\n",
        "- Embora tenhamos usado uma CNN com 3 camadas de convolução, enquanto essa RNN possui apenas uma camada LSTM, o processo de treinamento da RNN é ainda muito mais lento.\n",
        "- Isto ocorre devido ao elevado número de parâmetros da LSTM, o que resulta em quantidade elevada de cálculos a serem realizados em cada epoch."
      ],
      "metadata": {
        "id": "DRnFm-bFLeei"
      }
    },
    {
      "cell_type": "markdown",
      "source": [
        "Note a estrutura de uma rede neural simples em Keras:\n",
        "\n",
        "```\n",
        "#Camada de entrada e camadas ocultas: utilize para cada uma delas o comando abaixo, onde N_NEURONIOS representa o total de neurônios utilizados\n",
        "x = Dense(N_NEURONIOS, activation=\"relu\")(input)\n",
        "\n",
        "#Camada de saída:\n",
        "x = Dense(1, activation=\"sigmoid\")(x)\n",
        "\n",
        "#Definição do modelo:\n",
        "model = Model(inputs=input, outputs=x)\n",
        "model.compile(loss=\"binary_crossentropy\", optimizer=\"adam\")\n",
        "model.fit(X, y, n_epochs=100)\n",
        "```\n",
        "- \"Activation\" (função de ativação): \"relu\"; \"sigmoid\"; ou \"tanh\";\n",
        "- Saída x = Dense(1, activation=\"sigmoid\")(x): **aqui, o primeiro argumento é o total de variáveis de saída.** Se tivermos uma única saída (resposta única), o primeiro argumento será 1. No caso da classificação de toxicidade, estamos trabalhando com 6 saídas. **De forma mais genérica, o número de saídas é a dimensão da lista de rótulos,** razão pela qual usamos como input: **\"len(possible_labels)\"**.\n",
        "- \"loss\", \"optimizer\" e \"epochs\" são hiperparâmetros das redes neurais, e podem ser modificados até se encontrar a melhor combinação deles.\n",
        "- **\"epochs\": quantidade de vezes em que todo o dataset será utilizado na backpropagation**;\n",
        "- Número de camadas da rede neural simples: será igual à quantidade de operações \"Dense\" aplicadas.\n",
        "\n",
        "Note que, n**o caso da CNN, além das camadas \"Dense\" finais, temos as camadas de convolução e de agrupamento, de modo que o total de camadas não pode ser tomado como igual à quantidade de operações \"Dense\"**."
      ],
      "metadata": {
        "id": "j2IbsVLu0_QR"
      }
    },
    {
      "cell_type": "markdown",
      "source": [
        "# **Salvar modelo treinado no Google Drive para re-importá-lo futuramente (ou baixá-lo no ambiente offline)**\n",
        "\n",
        "Aqui, forneça o mesmo endereço da pasta na qual os arquivos das bases de dados foram salvos. Assim, o modelo ficará salvo na mesma pasta, facilitando sua localização.\n",
        "\n",
        "- Voltando ao início deste notebook, vemos que a pasta utilizada como exemplo tem o endereço: /content/drive/MyDrive/Advanced NLP/Lesson 1 - convolutional neural networks/"
      ],
      "metadata": {
        "id": "jskuFuaU5QtH"
      }
    },
    {
      "cell_type": "code",
      "source": [
        "folder_adress = \"/content/drive/MyDrive/Coisas úteis separadas para a Paula/Deep Learning - Advanced NLP and RNNs/Lesson 2 - recurrent neural networks/\""
      ],
      "metadata": {
        "id": "28aBSXWa59ww"
      },
      "execution_count": 21,
      "outputs": []
    },
    {
      "cell_type": "code",
      "source": [
        "import dill\n",
        "\n",
        "#Nosso modelo foi gerado com a denominação \"r\", como vimos acima.\n",
        "\n",
        "#Definicao do endereço e nome do novo arquivo:\n",
        "file_address = folder_adress + \"obtained_model.dill\"\n",
        "#file_address armazena o local em que sera salvo o modelo: o endereço da pasta foi concatenado\n",
        "#ao nome e extensão desejados para o arquivo.\n",
        "#note que o arquivo gerado se chama obtained_model.dill\n",
        "#o dill permite salvar em qualquer extensao (pkl, sav, pmml, ...)\n",
        "\n",
        "dill.dump(r, open(file_address, 'wb'))\n",
        "#aqui, modifique \"r\" pelo nome do modelo declarado, caso seja outro o nome utilizado"
      ],
      "metadata": {
        "colab": {
          "base_uri": "https://localhost:8080/"
        },
        "id": "QAyummsK5g27",
        "outputId": "53d0fba7-dcd1-4e01-d7bd-de28d79e2246"
      },
      "execution_count": 22,
      "outputs": [
        {
          "output_type": "stream",
          "name": "stderr",
          "text": [
            "WARNING:absl:Found untraced functions such as lstm_cell_layer_call_fn, lstm_cell_layer_call_and_return_conditional_losses, lstm_cell_layer_call_fn, lstm_cell_layer_call_and_return_conditional_losses, lstm_cell_layer_call_and_return_conditional_losses while saving (showing 5 of 5). These functions will not be directly callable after loading.\n"
          ]
        },
        {
          "output_type": "stream",
          "name": "stdout",
          "text": [
            "INFO:tensorflow:Assets written to: ram://bdac340d-8d7a-4e08-9136-fa6f7b36a060/assets\n"
          ]
        },
        {
          "output_type": "stream",
          "name": "stderr",
          "text": [
            "INFO:tensorflow:Assets written to: ram://bdac340d-8d7a-4e08-9136-fa6f7b36a060/assets\n",
            "WARNING:absl:<keras.layers.recurrent.LSTMCell object at 0x7febe00c2d90> has the same name 'LSTMCell' as a built-in Keras object. Consider renaming <class 'keras.layers.recurrent.LSTMCell'> to avoid naming conflicts when loading with `tf.keras.models.load_model`. If renaming is not possible, pass the object in the `custom_objects` parameter of the load function.\n"
          ]
        }
      ]
    },
    {
      "cell_type": "markdown",
      "source": [
        "# **Reimportar modelo pré-treinado**\n",
        "\n",
        "Para reimportar o modelo, basta seguir o código abaixo (ajuste-o de acordo com a pasta do drive na qual está salvo o modelo obtido anteriormente) - basta substituir o valor de \"file_address\" pelo endereço correto"
      ],
      "metadata": {
        "id": "lHxSHZ4Q6_qv"
      }
    },
    {
      "cell_type": "code",
      "source": [
        "import dill\n",
        "\n",
        "file_address = \"/content/drive/MyDrive/Advanced NLP/Lesson 1 - convolutional neural networks/obtained_model.dill\"\n",
        "\n",
        "loaded_model = dill.load(open(file_address, 'rb'))\n",
        "\n",
        "#Agora o modelo carregado  recebe o nome de loaded_model\n",
        "#todos os campos que recebiam o nome do modelo devem ter o nome substituído para loaded_model\n",
        "#você também pode modificar o nome loaded_model para um nome de seu interesse. Por exemplo:\n",
        "#r = dill.load(open(file_address, 'rb')) fará o modelo ser carregado com o nome r\n",
        "\n",
        "#ATENÇÃO: Caso já haja um modelo 1 com o nome escolhido para carregar este modelo 2, o modelo 1 deixará de existir, \n",
        "#sendo substituído pelo modelo 2 carregado."
      ],
      "metadata": {
        "id": "ct-qKMQJ-K5F"
      },
      "execution_count": null,
      "outputs": []
    },
    {
      "cell_type": "markdown",
      "source": [
        "# **Plotar gráfico da função de perda**"
      ],
      "metadata": {
        "id": "2v8Euvqm_YQl"
      }
    },
    {
      "cell_type": "code",
      "source": [
        "# plot some data\n",
        "plt.plot(r.history['loss'], label='loss')\n",
        "plt.plot(r.history['val_loss'], label='val_loss')\n",
        "plt.legend()\n",
        "plt.show()"
      ],
      "metadata": {
        "colab": {
          "base_uri": "https://localhost:8080/",
          "height": 265
        },
        "id": "aTqvbIRw_eZj",
        "outputId": "1cf5b74f-3e38-4f59-ff58-ec925ef4ae2c"
      },
      "execution_count": 23,
      "outputs": [
        {
          "output_type": "display_data",
          "data": {
            "image/png": "[encoded data removed]",
            "text/plain": [
              "<Figure size 432x288 with 1 Axes>"
            ]
          },
          "metadata": {
            "needs_background": "light"
          }
        }
      ]
    },
    {
      "cell_type": "markdown",
      "source": [
        "# **Plotar gráfico da precisão**"
      ],
      "metadata": {
        "id": "p8p5OygY_iaU"
      }
    },
    {
      "cell_type": "code",
      "source": [
        "# accuracies\n",
        "plt.plot(r.history['accuracy'], label='acc')\n",
        "plt.plot(r.history['val_accuracy'], label='val_acc')\n",
        "plt.legend()\n",
        "plt.show()"
      ],
      "metadata": {
        "colab": {
          "base_uri": "https://localhost:8080/",
          "height": 266
        },
        "id": "Ss9D42nE_rsb",
        "outputId": "5202a485-00c4-4233-d943-afc9d0607c6a"
      },
      "execution_count": 24,
      "outputs": [
        {
          "output_type": "display_data",
          "data": {
            "image/png": "[encoded data removed]",
            "text/plain": [
              "<Figure size 432x288 with 1 Axes>"
            ]
          },
          "metadata": {
            "needs_background": "light"
          }
        }
      ]
    },
    {
      "cell_type": "markdown",
      "source": [
        "# **Imprimir valor da métrica AUC**"
      ],
      "metadata": {
        "id": "9A73KOVn_xLc"
      }
    },
    {
      "cell_type": "code",
      "source": [
        "# plot the mean AUC over each label\n",
        "p = model.predict(data)\n",
        "aucs = []\n",
        "for j in range(6):\n",
        "    auc = roc_auc_score(targets[:,j], p[:,j])\n",
        "    aucs.append(auc)\n",
        "print(np.mean(aucs))\n"
      ],
      "metadata": {
        "id": "au3b5YMqP54l",
        "colab": {
          "base_uri": "https://localhost:8080/"
        },
        "outputId": "53fc0ec3-0485-4ec7-fcfa-fde89b4e44fa"
      },
      "execution_count": 25,
      "outputs": [
        {
          "output_type": "stream",
          "name": "stdout",
          "text": [
            "0.9723251493202509\n"
          ]
        }
      ]
    },
    {
      "cell_type": "markdown",
      "source": [
        "Primeiramente, realizamos uma previsão utilizando o modelo, e **utilizamos um loop para percorrer cada uma das camadas da rede neural construída**.\n",
        "\n",
        "- No caso, são as colunas em \"targets\" e \"predictions\".\n",
        "- Para cada coluna, calculamos a métrica AUC e, ao fim, tomamos o valor médio das 6 métricas obtidas."
      ],
      "metadata": {
        "id": "CnSNq6SWANOt"
      }
    },
    {
      "cell_type": "markdown",
      "source": [
        "Também **poderíamos ter dividido os dados em um conjunto de treino e um conjunto de teste**."
      ],
      "metadata": {
        "id": "hf-OOFrRA7JN"
      }
    },
    {
      "cell_type": "markdown",
      "source": [
        "Note ainda que **os resultados do modelo RNN são superiores aos obtidos anteriormente com a CNN**.\n",
        "- Isto é consequência do elevado desempenho mostrado pela LSTM para trabalho com sequências."
      ],
      "metadata": {
        "id": "8xMQaiaEMUyp"
      }
    },
    {
      "cell_type": "markdown",
      "source": [
        "# **NOTA: Realizar previsões com o modelo**\n",
        "\n",
        "Note que o comando `model.predict(X)` calcula os valores previstos pelo modelo `model` para cada um dos valores do dataframe `X` fornecido como input."
      ],
      "metadata": {
        "id": "tOHHwzDCEpla"
      }
    }
  ]
}